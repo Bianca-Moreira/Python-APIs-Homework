{
 "cells": [
  {
   "cell_type": "code",
   "execution_count": 12,
   "metadata": {},
   "outputs": [],
   "source": [
    "# Dependencies and Setup\n",
    "import matplotlib.pyplot as plt\n",
    "import pandas as pd\n",
    "import numpy as np\n",
    "import requests\n",
    "import gmaps\n",
    "import os\n",
    "\n",
    "# Import API key\n",
    "from api_keys import g_key"
   ]
  },
  {
   "cell_type": "markdown",
   "metadata": {},
   "source": [
    "### Store Part I results into DataFrame\n",
    "* Load the csv exported in Part I to a DataFrame"
   ]
  },
  {
   "cell_type": "code",
   "execution_count": 13,
   "metadata": {},
   "outputs": [
    {
     "output_type": "execute_result",
     "data": {
      "text/plain": "         City    Lat     Lng  Max Temp  Humidity  Cloudiness  Wind Speed\n0      luanda  -8.83   13.24     73.40        83           3        5.82\n1      dikson  73.51   80.55     34.72        90           5        2.95\n2   hithadhoo  -0.60   73.08     83.32        76          99        7.61\n3  codrington -28.95  153.24     55.99        87           0        9.17\n4      tiznit  29.70   -9.73     69.10        92           7       11.77",
      "text/html": "<div>\n<style scoped>\n    .dataframe tbody tr th:only-of-type {\n        vertical-align: middle;\n    }\n\n    .dataframe tbody tr th {\n        vertical-align: top;\n    }\n\n    .dataframe thead th {\n        text-align: right;\n    }\n</style>\n<table border=\"1\" class=\"dataframe\">\n  <thead>\n    <tr style=\"text-align: right;\">\n      <th></th>\n      <th>City</th>\n      <th>Lat</th>\n      <th>Lng</th>\n      <th>Max Temp</th>\n      <th>Humidity</th>\n      <th>Cloudiness</th>\n      <th>Wind Speed</th>\n    </tr>\n  </thead>\n  <tbody>\n    <tr>\n      <td>0</td>\n      <td>luanda</td>\n      <td>-8.83</td>\n      <td>13.24</td>\n      <td>73.40</td>\n      <td>83</td>\n      <td>3</td>\n      <td>5.82</td>\n    </tr>\n    <tr>\n      <td>1</td>\n      <td>dikson</td>\n      <td>73.51</td>\n      <td>80.55</td>\n      <td>34.72</td>\n      <td>90</td>\n      <td>5</td>\n      <td>2.95</td>\n    </tr>\n    <tr>\n      <td>2</td>\n      <td>hithadhoo</td>\n      <td>-0.60</td>\n      <td>73.08</td>\n      <td>83.32</td>\n      <td>76</td>\n      <td>99</td>\n      <td>7.61</td>\n    </tr>\n    <tr>\n      <td>3</td>\n      <td>codrington</td>\n      <td>-28.95</td>\n      <td>153.24</td>\n      <td>55.99</td>\n      <td>87</td>\n      <td>0</td>\n      <td>9.17</td>\n    </tr>\n    <tr>\n      <td>4</td>\n      <td>tiznit</td>\n      <td>29.70</td>\n      <td>-9.73</td>\n      <td>69.10</td>\n      <td>92</td>\n      <td>7</td>\n      <td>11.77</td>\n    </tr>\n  </tbody>\n</table>\n</div>"
     },
     "metadata": {},
     "execution_count": 13
    }
   ],
   "source": [
    "# Store csv into a df\n",
    "city_data_df = pd.read_csv(\"output_data/cities.csv\")\n",
    "city_data_df = city_data_df[[\"City\",\"Lat\" ,\"Lng\", \"Max Temp\", \"Humidity\", \"Cloudiness\",\"Wind Speed\"]]\n",
    "city_data_df.head()"
   ]
  },
  {
   "cell_type": "markdown",
   "metadata": {},
   "source": [
    "### Humidity Heatmap\n",
    "* Configure gmaps.\n",
    "* Use the Lat and Lng as locations and Humidity as the weight.\n",
    "* Add Heatmap layer to map."
   ]
  },
  {
   "cell_type": "code",
   "execution_count": 14,
   "metadata": {},
   "outputs": [],
   "source": [
    "# Configure gmaps\n",
    "gmaps.configure(api_key=g_key)"
   ]
  },
  {
   "cell_type": "code",
   "execution_count": 8,
   "metadata": {},
   "outputs": [
    {
     "output_type": "display_data",
     "data": {
      "text/plain": "Figure(layout=FigureLayout(height='420px'))",
      "application/vnd.jupyter.widget-view+json": {
       "version_major": 2,
       "version_minor": 0,
       "model_id": "f8d94987d6d84ab7b857d9a444751050"
      }
     },
     "metadata": {}
    }
   ],
   "source": [
    "# Heatmap of humidity\n",
    "locations = city_data_df[[\"Lat\", \"Lng\"]]\n",
    "humidity = city_data_df[\"Humidity\"]\n",
    "fig = gmaps.figure()\n",
    "heat_layer = gmaps.heatmap_layer(locations, weights=humidity, dissipating=False, max_intensity=300, point_radius=5)\n",
    "\n",
    "fig.add_layer(heat_layer)\n",
    "\n",
    "fig"
   ]
  },
  {
   "cell_type": "markdown",
   "metadata": {},
   "source": [
    "### Create new DataFrame fitting weather criteria\n",
    "* Narrow down the cities to fit weather conditions.\n",
    "* Drop any rows will null values."
   ]
  },
  {
   "cell_type": "code",
   "execution_count": 17,
   "metadata": {},
   "outputs": [
    {
     "output_type": "execute_result",
     "data": {
      "text/plain": "           City    Lat     Lng  Max Temp  Humidity  Cloudiness  Wind Speed\n43     goderich  43.74  -81.71     75.99        54           0        8.99\n97    athabasca  54.72 -113.29     79.18        50           0        5.21\n180     lusambo  -4.97   23.44     74.68        26           0        2.10\n215       praia -20.25  -43.81     77.00        38           0        5.82\n280    bandrele -12.91   45.19     77.00        69           0        9.17\n303    paldiski  59.35   24.08     71.60        77           0        9.17\n396        wana  32.31   69.59     71.62        65           0        1.88\n427  esmeraldas -19.76  -44.31     77.00        38           0        5.82\n471  zhezkazgan  47.80   67.71     73.06        42           0        8.61\n525       sitka  37.17  -99.65     77.00        51           0        1.01",
      "text/html": "<div>\n<style scoped>\n    .dataframe tbody tr th:only-of-type {\n        vertical-align: middle;\n    }\n\n    .dataframe tbody tr th {\n        vertical-align: top;\n    }\n\n    .dataframe thead th {\n        text-align: right;\n    }\n</style>\n<table border=\"1\" class=\"dataframe\">\n  <thead>\n    <tr style=\"text-align: right;\">\n      <th></th>\n      <th>City</th>\n      <th>Lat</th>\n      <th>Lng</th>\n      <th>Max Temp</th>\n      <th>Humidity</th>\n      <th>Cloudiness</th>\n      <th>Wind Speed</th>\n    </tr>\n  </thead>\n  <tbody>\n    <tr>\n      <td>43</td>\n      <td>goderich</td>\n      <td>43.74</td>\n      <td>-81.71</td>\n      <td>75.99</td>\n      <td>54</td>\n      <td>0</td>\n      <td>8.99</td>\n    </tr>\n    <tr>\n      <td>97</td>\n      <td>athabasca</td>\n      <td>54.72</td>\n      <td>-113.29</td>\n      <td>79.18</td>\n      <td>50</td>\n      <td>0</td>\n      <td>5.21</td>\n    </tr>\n    <tr>\n      <td>180</td>\n      <td>lusambo</td>\n      <td>-4.97</td>\n      <td>23.44</td>\n      <td>74.68</td>\n      <td>26</td>\n      <td>0</td>\n      <td>2.10</td>\n    </tr>\n    <tr>\n      <td>215</td>\n      <td>praia</td>\n      <td>-20.25</td>\n      <td>-43.81</td>\n      <td>77.00</td>\n      <td>38</td>\n      <td>0</td>\n      <td>5.82</td>\n    </tr>\n    <tr>\n      <td>280</td>\n      <td>bandrele</td>\n      <td>-12.91</td>\n      <td>45.19</td>\n      <td>77.00</td>\n      <td>69</td>\n      <td>0</td>\n      <td>9.17</td>\n    </tr>\n    <tr>\n      <td>303</td>\n      <td>paldiski</td>\n      <td>59.35</td>\n      <td>24.08</td>\n      <td>71.60</td>\n      <td>77</td>\n      <td>0</td>\n      <td>9.17</td>\n    </tr>\n    <tr>\n      <td>396</td>\n      <td>wana</td>\n      <td>32.31</td>\n      <td>69.59</td>\n      <td>71.62</td>\n      <td>65</td>\n      <td>0</td>\n      <td>1.88</td>\n    </tr>\n    <tr>\n      <td>427</td>\n      <td>esmeraldas</td>\n      <td>-19.76</td>\n      <td>-44.31</td>\n      <td>77.00</td>\n      <td>38</td>\n      <td>0</td>\n      <td>5.82</td>\n    </tr>\n    <tr>\n      <td>471</td>\n      <td>zhezkazgan</td>\n      <td>47.80</td>\n      <td>67.71</td>\n      <td>73.06</td>\n      <td>42</td>\n      <td>0</td>\n      <td>8.61</td>\n    </tr>\n    <tr>\n      <td>525</td>\n      <td>sitka</td>\n      <td>37.17</td>\n      <td>-99.65</td>\n      <td>77.00</td>\n      <td>51</td>\n      <td>0</td>\n      <td>1.01</td>\n    </tr>\n  </tbody>\n</table>\n</div>"
     },
     "metadata": {},
     "execution_count": 17
    }
   ],
   "source": [
    "# Narrow down cities that fit criteria and drop any results with null values\n",
    "narrowed_city_df = city_data_df.loc[(city_data_df[\"Max Temp\"] < 80) & (city_data_df[\"Max Temp\"] > 70) \\\n",
    "                                    & (city_data_df[\"Wind Speed\"] < 10) \\\n",
    "                                    & (city_data_df[\"Cloudiness\"] == 0)].dropna()\n",
    "narrowed_city_df"
   ]
  },
  {
   "cell_type": "markdown",
   "metadata": {},
   "source": [
    "### Hotel Map\n",
    "* Store into variable named `hotel_df`.\n",
    "* Add a \"Hotel Name\" column to the DataFrame.\n",
    "* Set parameters to search for hotels with 5000 meters.\n",
    "* Hit the Google Places API for each city's coordinates.\n",
    "* Store the first Hotel result into the DataFrame.\n",
    "* Plot markers on top of the heatmap."
   ]
  },
  {
   "cell_type": "code",
   "execution_count": 19,
   "metadata": {},
   "outputs": [
    {
     "output_type": "execute_result",
     "data": {
      "text/plain": "           City    Lat     Lng Hotel Name\n43     goderich  43.74  -81.71           \n97    athabasca  54.72 -113.29           \n180     lusambo  -4.97   23.44           \n215       praia -20.25  -43.81           \n280    bandrele -12.91   45.19           \n303    paldiski  59.35   24.08           \n396        wana  32.31   69.59           \n427  esmeraldas -19.76  -44.31           \n471  zhezkazgan  47.80   67.71           \n525       sitka  37.17  -99.65           ",
      "text/html": "<div>\n<style scoped>\n    .dataframe tbody tr th:only-of-type {\n        vertical-align: middle;\n    }\n\n    .dataframe tbody tr th {\n        vertical-align: top;\n    }\n\n    .dataframe thead th {\n        text-align: right;\n    }\n</style>\n<table border=\"1\" class=\"dataframe\">\n  <thead>\n    <tr style=\"text-align: right;\">\n      <th></th>\n      <th>City</th>\n      <th>Lat</th>\n      <th>Lng</th>\n      <th>Hotel Name</th>\n    </tr>\n  </thead>\n  <tbody>\n    <tr>\n      <td>43</td>\n      <td>goderich</td>\n      <td>43.74</td>\n      <td>-81.71</td>\n      <td></td>\n    </tr>\n    <tr>\n      <td>97</td>\n      <td>athabasca</td>\n      <td>54.72</td>\n      <td>-113.29</td>\n      <td></td>\n    </tr>\n    <tr>\n      <td>180</td>\n      <td>lusambo</td>\n      <td>-4.97</td>\n      <td>23.44</td>\n      <td></td>\n    </tr>\n    <tr>\n      <td>215</td>\n      <td>praia</td>\n      <td>-20.25</td>\n      <td>-43.81</td>\n      <td></td>\n    </tr>\n    <tr>\n      <td>280</td>\n      <td>bandrele</td>\n      <td>-12.91</td>\n      <td>45.19</td>\n      <td></td>\n    </tr>\n    <tr>\n      <td>303</td>\n      <td>paldiski</td>\n      <td>59.35</td>\n      <td>24.08</td>\n      <td></td>\n    </tr>\n    <tr>\n      <td>396</td>\n      <td>wana</td>\n      <td>32.31</td>\n      <td>69.59</td>\n      <td></td>\n    </tr>\n    <tr>\n      <td>427</td>\n      <td>esmeraldas</td>\n      <td>-19.76</td>\n      <td>-44.31</td>\n      <td></td>\n    </tr>\n    <tr>\n      <td>471</td>\n      <td>zhezkazgan</td>\n      <td>47.80</td>\n      <td>67.71</td>\n      <td></td>\n    </tr>\n    <tr>\n      <td>525</td>\n      <td>sitka</td>\n      <td>37.17</td>\n      <td>-99.65</td>\n      <td></td>\n    </tr>\n  </tbody>\n</table>\n</div>"
     },
     "metadata": {},
     "execution_count": 19
    }
   ],
   "source": [
    "# Create DataFrame called hotel_df to store hotel names along with city, country and coordinates\n",
    "hotel_df = narrowed_city_df[[\"City\", \"Lat\", \"Lng\"]].copy()\n",
    "hotel_df[\"Hotel Name\"] = \"\"\n",
    "hotel_df"
   ]
  },
  {
   "cell_type": "code",
   "execution_count": 22,
   "metadata": {},
   "outputs": [
    {
     "output_type": "execute_result",
     "data": {
      "text/plain": "           City    Lat     Lng  \\\n43     goderich  43.74  -81.71   \n97    athabasca  54.72 -113.29   \n215       praia -20.25  -43.81   \n280    bandrele -12.91   45.19   \n303    paldiski  59.35   24.08   \n396        wana  32.31   69.59   \n427  esmeraldas -19.76  -44.31   \n471  zhezkazgan  47.80   67.71   \n\n                                            Hotel Name  \n43                                         Harmony Inn  \n97                               Athabasca Lodge Motel  \n215                             Hotel Pousada de Minas  \n280                                        Les Baobabs  \n303                                       Pakri Hostel  \n396                                   Rasa travel wana  \n427  MinasTec 24 Hrs - Desentupidora em Esmeraldas,...  \n471                               Kvartiry Posutochno.  ",
      "text/html": "<div>\n<style scoped>\n    .dataframe tbody tr th:only-of-type {\n        vertical-align: middle;\n    }\n\n    .dataframe tbody tr th {\n        vertical-align: top;\n    }\n\n    .dataframe thead th {\n        text-align: right;\n    }\n</style>\n<table border=\"1\" class=\"dataframe\">\n  <thead>\n    <tr style=\"text-align: right;\">\n      <th></th>\n      <th>City</th>\n      <th>Lat</th>\n      <th>Lng</th>\n      <th>Hotel Name</th>\n    </tr>\n  </thead>\n  <tbody>\n    <tr>\n      <td>43</td>\n      <td>goderich</td>\n      <td>43.74</td>\n      <td>-81.71</td>\n      <td>Harmony Inn</td>\n    </tr>\n    <tr>\n      <td>97</td>\n      <td>athabasca</td>\n      <td>54.72</td>\n      <td>-113.29</td>\n      <td>Athabasca Lodge Motel</td>\n    </tr>\n    <tr>\n      <td>215</td>\n      <td>praia</td>\n      <td>-20.25</td>\n      <td>-43.81</td>\n      <td>Hotel Pousada de Minas</td>\n    </tr>\n    <tr>\n      <td>280</td>\n      <td>bandrele</td>\n      <td>-12.91</td>\n      <td>45.19</td>\n      <td>Les Baobabs</td>\n    </tr>\n    <tr>\n      <td>303</td>\n      <td>paldiski</td>\n      <td>59.35</td>\n      <td>24.08</td>\n      <td>Pakri Hostel</td>\n    </tr>\n    <tr>\n      <td>396</td>\n      <td>wana</td>\n      <td>32.31</td>\n      <td>69.59</td>\n      <td>Rasa travel wana</td>\n    </tr>\n    <tr>\n      <td>427</td>\n      <td>esmeraldas</td>\n      <td>-19.76</td>\n      <td>-44.31</td>\n      <td>MinasTec 24 Hrs - Desentupidora em Esmeraldas,...</td>\n    </tr>\n    <tr>\n      <td>471</td>\n      <td>zhezkazgan</td>\n      <td>47.80</td>\n      <td>67.71</td>\n      <td>Kvartiry Posutochno.</td>\n    </tr>\n  </tbody>\n</table>\n</div>"
     },
     "metadata": {},
     "execution_count": 22
    }
   ],
   "source": [
    "# Create a params dict that will be updated with each iteration\n",
    "params = {\"key\": g_key,\n",
    "         \"type\": \"lodging\",\n",
    "         \"radius\": 5000}\n",
    "\n",
    "\n",
    "# Loop through the cities_pd and run a lat/long search for each city\n",
    "for index, row in hotel_df.iterrows():\n",
    "    base_url = \"https://maps.googleapis.com/maps/api/place/nearbysearch/json\"\n",
    "    latitude = row[\"Lat\"]\n",
    "    longitude = row[\"Lng\"]\n",
    "\n",
    "    # update address key value\n",
    "    params['location'] = f\"{latitude},{longitude}\"\n",
    "\n",
    "    # make request\n",
    "    hotels = requests.get(base_url, params=params).json()\n",
    "    response = hotels['results']\n",
    "    \n",
    "    try:\n",
    "               \n",
    "        hotel_df.loc[index, \"Hotel Name\"] = response[0]['name']\n",
    "        \n",
    "    except (KeyError, IndexError):\n",
    "        \n",
    "        hotel_df.loc[index, \"Hotel Name\"] = \"\"\n",
    "\n",
    "hotel_df = hotel_df.loc[(hotel_df[\"Hotel Name\"] != \"\"), :]\n",
    "hotel_df"
   ]
  },
  {
   "cell_type": "code",
   "execution_count": 25,
   "metadata": {},
   "outputs": [],
   "source": [
    "# NOTE: Do not change any of the code in this cell\n",
    "\n",
    "# Using the template add the hotel marks to the heatmap\n",
    "info_box_template = \"\"\"\n",
    "<dl>\n",
    "<dt>Name</dt><dd>{Hotel Name}</dd>\n",
    "<dt>City</dt><dd>{City}</dd>\n",
    "</dl>\n",
    "\"\"\"\n",
    "# Store the DataFrame Row\n",
    "# NOTE: be sure to update with your DataFrame name\n",
    "hotel_info = [info_box_template.format(**row) for index, row in hotel_df.iterrows()]\n",
    "locations = hotel_df[[\"Lat\", \"Lng\"]]\n"
   ]
  },
  {
   "cell_type": "code",
   "execution_count": 26,
   "metadata": {},
   "outputs": [
    {
     "output_type": "display_data",
     "data": {
      "text/plain": "Figure(layout=FigureLayout(height='420px'))",
      "application/vnd.jupyter.widget-view+json": {
       "version_major": 2,
       "version_minor": 0,
       "model_id": "f8d94987d6d84ab7b857d9a444751050"
      }
     },
     "metadata": {}
    }
   ],
   "source": [
    "# Add marker layer ontop of heat map\n",
    "\n",
    "markers = gmaps.marker_layer(locations)\n",
    "\n",
    "# Add the layer to the map\n",
    "fig.add_layer(markers)\n",
    "\n",
    "# Display Map\n",
    "\n",
    "fig"
   ]
  },
  {
   "cell_type": "code",
   "execution_count": null,
   "metadata": {},
   "outputs": [],
   "source": []
  }
 ],
 "metadata": {
  "kernelspec": {
   "display_name": "Python 3.7.4 64-bit ('base': conda)",
   "language": "python",
   "name": "python37464bitbasecondad490780e2e684e22b09f96599ab0295e"
  },
  "language_info": {
   "codemirror_mode": {
    "name": "ipython",
    "version": 3
   },
   "file_extension": ".py",
   "mimetype": "text/x-python",
   "name": "python",
   "nbconvert_exporter": "python",
   "pygments_lexer": "ipython3",
   "version": "3.7.4-final"
  },
  "latex_envs": {
   "LaTeX_envs_menu_present": true,
   "autoclose": false,
   "autocomplete": true,
   "bibliofile": "biblio.bib",
   "cite_by": "apalike",
   "current_citInitial": 1,
   "eqLabelWithNumbers": true,
   "eqNumInitial": 1,
   "hotkeys": {
    "equation": "Ctrl-E",
    "itemize": "Ctrl-I"
   },
   "labels_anchors": false,
   "latex_user_defs": false,
   "report_style_numbering": false,
   "user_envs_cfg": false
  }
 },
 "nbformat": 4,
 "nbformat_minor": 2
}